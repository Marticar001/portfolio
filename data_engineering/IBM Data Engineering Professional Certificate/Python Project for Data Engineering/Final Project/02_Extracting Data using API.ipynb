{
 "cells": [
  {
   "cell_type": "markdown",
   "metadata": {},
   "source": [
    "<center>\n",
    "    <img src=\"https://gitlab.com/ibm/skills-network/courses/placeholder101/-/raw/master/labs/module%201/images/IDSNlogo.png\" width=\"300\" alt=\"cognitiveclass.ai logo\"  />\n",
    "</center>\n"
   ]
  },
  {
   "cell_type": "markdown",
   "metadata": {},
   "source": [
    "# Peer Review Assignment - Data Engineer - Extract API Data\n"
   ]
  },
  {
   "cell_type": "markdown",
   "metadata": {},
   "source": [
    "Estimated time needed: **20** minutes\n"
   ]
  },
  {
   "cell_type": "markdown",
   "metadata": {},
   "source": [
    "## Objectives\n",
    "\n",
    "In this part you will:\n",
    "\n",
    "*   Collect exchange rate data using an API\n",
    "*   Store the data as a CSV\n"
   ]
  },
  {
   "cell_type": "markdown",
   "metadata": {},
   "source": [
    "For this lab, we are going to be using Python and several Python libraries. Some of these libraries might be installed in your lab environment or in SN Labs. Others may need to be installed by you. The cells below will install these libraries when executed.\n"
   ]
  },
  {
   "cell_type": "code",
   "execution_count": 3,
   "metadata": {},
   "outputs": [],
   "source": [
    "#!pip install pandas\n",
    "#!pip install requests"
   ]
  },
  {
   "cell_type": "markdown",
   "metadata": {},
   "source": [
    "## Imports\n",
    "\n",
    "Import any additional libraries you may need here.\n"
   ]
  },
  {
   "cell_type": "code",
   "execution_count": 4,
   "metadata": {},
   "outputs": [],
   "source": [
    "import requests\n",
    "import pandas as pd"
   ]
  },
  {
   "cell_type": "markdown",
   "metadata": {},
   "source": [
    "## Extract Data Using an API\n"
   ]
  },
  {
   "cell_type": "markdown",
   "metadata": {},
   "source": [
    "Using ExchangeRate-API we will extract currency exchange rate data. Use the below steps to get the access key and to get the data.\n",
    "\n",
    "1.  Open the url : [https://exchangeratesapi.io/](https://exchangeratesapi.io/?utm_medium=Exinfluencer&utm_source=Exinfluencer&utm_content=000026UJ&utm_term=10006555&utm_id=NA-SkillsNetwork-Channel-SkillsNetworkCoursesIBMDeveloperSkillsNetworkPY0221ENSkillsNetwork23455645-2021-01-01) and create a free account.\n",
    "2.  Once the account is created. You will get the Get the Free API key option on the top as shown below:\n",
    "\n",
    "<img src=\"https://cf-courses-data.s3.us.cloud-object-storage.appdomain.cloud/IBMDeveloperSkillsNetwork-PY0221EN-SkillsNetwork/labs/module%206/Final%20Assignment/Images/getapi.png\"/>\n",
    "\n",
    "3.  Copy the API key and use in the url in Question 1.\n"
   ]
  },
  {
   "cell_type": "markdown",
   "metadata": {
    "jp-MarkdownHeadingCollapsed": true,
    "tags": []
   },
   "source": [
    "### Call the API\n",
    "\n",
    "<b> Question 1</b> Using the `requests` library call the endpoint given above and save the text, remember the first few characters of the output:\n"
   ]
  },
  {
   "cell_type": "code",
   "execution_count": 105,
   "metadata": {},
   "outputs": [
    {
     "name": "stdout",
     "output_type": "stream",
     "text": [
      "{\"success\":true,\"timestamp\":1646005322,\"base\":\"EUR\",\"date\":\"2022-02-28\",\"rates\":{\"AED\":4.106262,\"AFN\":101.814529,\"ALL\":120.377673,\"AMD\":534.332806,\"ANG\":1.999978,\"AOA\":555.17708,\"ARS\":120.089367,\"AUD\":1.556245,\"AWG\":2.0126,\"AZN\":1.898445,\"BAM\":1.940479,\"BBD\":2.240674,\"BDT\":95.408706,\"BGN\":1.942532,\"BHD\":0.41839,\"BIF\":2218.479248,\"BMD\":1.117956,\"BND\":1.503208,\"BOB\":7.629343,\"BRL\":5.770927,\"BSD\":1.109721,\"BTC\":2.9671004e-5,\"BTN\":83.536231,\"BWP\":12.873853,\"BYN\":3.06029,\"BYR\":21911.931135,\"BZD\":2.236903,\"CAD\":1.425472,\"CDF\":2251.56231,\"CHF\":1.035993,\"CLF\":0.03257,\"CLP\":898.711447,\"CNY\":7.06224,\"COP\":4357.923754,\"CRC\":711.530962,\"CUC\":1.117956,\"CUP\":29.625825,\"CVE\":109.399523,\"CZK\":25.005273,\"DJF\":197.557094,\"DKK\":7.441303,\"DOP\":62.077892,\"DZD\":157.827407,\"EGP\":17.609257,\"ERN\":16.769357,\"ETB\":56.8816,\"EUR\":1,\"FJD\":2.387284,\"FKP\":0.813782,\"GBP\":0.836689,\"GEL\":3.543979,\"GGP\":0.813782,\"GHS\":7.512865,\"GIP\":0.813782,\"GMD\":59.617293,\"GNF\":9964.271025,\"GTQ\":8.561568,\"GYD\":232.17324,\"HKD\":8.729372,\"HNL\":27.325821,\"HRK\":7.508418,\"HTG\":115.627254,\"HUF\":368.606792,\"IDR\":16025.056065,\"ILS\":3.614027,\"IMP\":0.813782,\"INR\":83.93108,\"IQD\":1620.202315,\"IRR\":47071.523575,\"ISK\":140.034889,\"JEP\":0.813782,\"JMD\":172.179857,\"JOD\":0.792649,\"JPY\":129.242941,\"KES\":126.342286,\"KGS\":105.940387,\"KHR\":4511.012642,\"KMF\":490.083828,\"KPW\":1006.160279,\"KRW\":1339.121167,\"KWD\":0.338763,\"KYD\":0.924784,\"KZT\":510.600556,\"LAK\":12709.155793,\"LBP\":1677.925656,\"LKR\":224.719507,\"LRD\":172.386139,\"LSL\":16.988438,\"LTL\":3.301032,\"LVL\":0.67624,\"LYD\":5.102731,\"MAD\":10.561943,\"MDL\":20.307941,\"MGA\":4426.144052,\"MKD\":61.13138,\"MMK\":1973.259224,\"MNT\":3196.04651,\"MOP\":8.925489,\"MRO\":399.109982,\"MUR\":49.190111,\"MVR\":17.271779,\"MWK\":891.831575,\"MXN\":22.971541,\"MYR\":4.684068,\"MZN\":71.35892,\"NAD\":16.987884,\"NGN\":464.577933,\"NIO\":39.34573,\"NOK\":10.01799,\"NPR\":133.657613,\"NZD\":1.670785,\"OMR\":0.430465,\"PAB\":1.109721,\"PEN\":4.211978,\"PGK\":3.930307,\"PHP\":57.371295,\"PKR\":197.031849,\"PLN\":4.701843,\"PYG\":7701.075534,\"QAR\":4.070513,\"RON\":4.91953,\"RSD\":116.664268,\"RUB\":93.38273,\"RWF\":1124.861041,\"SAR\":4.194014,\"SBD\":9.034022,\"SCR\":16.096054,\"SDG\":498.046193,\"SEK\":10.697416,\"SGD\":1.518424,\"SHP\":1.539868,\"SLL\":13080.081227,\"SOS\":655.122055,\"SRD\":22.93989,\"STD\":23139.425228,\"SVC\":9.710181,\"SYP\":2808.304392,\"SZL\":16.942763,\"THB\":36.548764,\"TJS\":12.5393,\"TMT\":3.924024,\"TND\":3.229747,\"TOP\":2.5476,\"TRY\":15.72522,\"TTD\":7.543324,\"TWD\":31.277945,\"TZS\":2569.016094,\"UAH\":33.347284,\"UGX\":3936.160392,\"USD\":1.117956,\"UYU\":46.92477,\"UZS\":12029.740757,\"VEF\":239052709510.79974,\"VND\":25522.927949,\"VUV\":127.079602,\"WST\":2.920484,\"XAF\":650.808349,\"XAG\":0.049646,\"XAU\":0.000618,\"XCD\":3.021331,\"XDR\":0.795903,\"XOF\":650.808349,\"XPF\":119.006675,\"YER\":279.768617,\"ZAR\":17.189262,\"ZMK\":10062.940521,\"ZMW\":19.669888,\"ZWL\":359.98127}}\n"
     ]
    }
   ],
   "source": [
    "# Write your code here\n",
    "url = \"http://api.exchangeratesapi.io/v1/latest?base=EUR&access_key=49c8294d23f6f863269cbc88da3a4a9f\"  #Make sure to change ******* to your API key.\n",
    "html_data = requests.get(url).text\n",
    "\n",
    "#print(html_data)\n",
    "print(html_data)\n"
   ]
  },
  {
   "cell_type": "markdown",
   "metadata": {},
   "source": [
    "### Save as DataFrame\n",
    "\n",
    "<b> Question 2</b>  Using the data gathered turn it into a `pandas` dataframe. The dataframe should have the Currency as the index and `Rate` as their columns. Make sure to drop unnecessary columns.\n"
   ]
  },
  {
   "cell_type": "code",
   "execution_count": 106,
   "metadata": {},
   "outputs": [
    {
     "name": "stdout",
     "output_type": "stream",
     "text": [
      "     success   timestamp base        date         rates\n",
      "AED     True  1646005322  EUR  2022-02-28      4.106262\n",
      "AFN     True  1646005322  EUR  2022-02-28    101.814529\n",
      "ALL     True  1646005322  EUR  2022-02-28    120.377673\n",
      "AMD     True  1646005322  EUR  2022-02-28    534.332806\n",
      "ANG     True  1646005322  EUR  2022-02-28      1.999978\n",
      "..       ...         ...  ...         ...           ...\n",
      "YER     True  1646005322  EUR  2022-02-28    279.768617\n",
      "ZAR     True  1646005322  EUR  2022-02-28     17.189262\n",
      "ZMK     True  1646005322  EUR  2022-02-28  10062.940521\n",
      "ZMW     True  1646005322  EUR  2022-02-28     19.669888\n",
      "ZWL     True  1646005322  EUR  2022-02-28    359.981270\n",
      "\n",
      "[168 rows x 5 columns]\n"
     ]
    }
   ],
   "source": [
    "# Turn the data into a dataframe\n",
    "# data = pd.DataFrame(html_data,index = ['Currency'],columns=['Rate'])\n",
    "\n",
    "import json\n",
    "import pandas as pd\n",
    "\n",
    "s = html_data\n",
    "df = pd.DataFrame(json.loads(s))\n",
    "print(df)\n"
   ]
  },
  {
   "cell_type": "code",
   "execution_count": 107,
   "metadata": {},
   "outputs": [
    {
     "name": "stdout",
     "output_type": "stream",
     "text": [
      "AED        4.106262\n",
      "AFN      101.814529\n",
      "ALL      120.377673\n",
      "AMD      534.332806\n",
      "ANG        1.999978\n",
      "           ...     \n",
      "YER      279.768617\n",
      "ZAR       17.189262\n",
      "ZMK    10062.940521\n",
      "ZMW       19.669888\n",
      "ZWL      359.981270\n",
      "Name: rates, Length: 168, dtype: float64\n"
     ]
    }
   ],
   "source": [
    "# Drop unnescessary columns\n",
    "df2 = df['rates']\n",
    "\n",
    "print(df2)"
   ]
  },
  {
   "cell_type": "markdown",
   "metadata": {},
   "source": [
    "### Load the Data\n",
    "\n",
    "Using the dataframe save it as a CSV names `exchange_rates_1.csv`.\n"
   ]
  },
  {
   "cell_type": "code",
   "execution_count": 109,
   "metadata": {},
   "outputs": [],
   "source": [
    "# Save the Dataframe\n",
    "df2.to_csv('exchange_rates_1.csv')"
   ]
  },
  {
   "cell_type": "markdown",
   "metadata": {},
   "source": [
    "Your CSV should be in this format with more currencies\n",
    "\n",
    "|     | Rates      |\n",
    "| --- | ---------- |\n",
    "| AED | 4.398618   |\n",
    "| AFN | 92.917693  |\n",
    "| ALL | 123.099093 |\n",
    "| AMD | 621.935674 |\n",
    "| ANG | 2.149648   |\n"
   ]
  },
  {
   "cell_type": "markdown",
   "metadata": {},
   "source": [
    "## Authors\n"
   ]
  },
  {
   "cell_type": "markdown",
   "metadata": {},
   "source": [
    "Ramesh Sannareddy, Joseph Santarcangelo and Azim Hirjani\n"
   ]
  },
  {
   "cell_type": "markdown",
   "metadata": {},
   "source": [
    "### Other Contributors\n"
   ]
  },
  {
   "cell_type": "markdown",
   "metadata": {},
   "source": [
    "Rav Ahuja\n"
   ]
  },
  {
   "cell_type": "markdown",
   "metadata": {},
   "source": [
    "## Change Log\n"
   ]
  },
  {
   "cell_type": "markdown",
   "metadata": {},
   "source": [
    "| Date (YYYY-MM-DD) | Version | Changed By        | Change Description                 |\n",
    "| ----------------- | ------- | ----------------- | ---------------------------------- |\n",
    "| 2021-04-15        | 0.2     | Malika            | Updated the lab from USD to EUR    |\n",
    "| 2020-11-25        | 0.1     | Ramesh Sannareddy | Created initial version of the lab |\n"
   ]
  },
  {
   "cell_type": "markdown",
   "metadata": {},
   "source": [
    "Copyright © 2020 IBM Corporation. This notebook and its source code are released under the terms of the [MIT License](https://cognitiveclass.ai/mit-license?utm_medium=Exinfluencer&utm_source=Exinfluencer&utm_content=000026UJ&utm_term=10006555&utm_id=NA-SkillsNetwork-Channel-SkillsNetworkCoursesIBMDeveloperSkillsNetworkPY0221ENSkillsNetwork23455645-2021-01-01&cm_mmc=Email_Newsletter-\\_-Developer_Ed%2BTech-\\_-WW_WW-\\_-SkillsNetwork-Courses-IBM-DA0321EN-SkillsNetwork-21426264&cm_mmca1=000026UJ&cm_mmca2=10006555&cm_mmca3=M12345678&cvosrc=email.Newsletter.M12345678&cvo_campaign=000026UJ).\n"
   ]
  }
 ],
 "metadata": {
  "kernelspec": {
   "display_name": "Python",
   "language": "python",
   "name": "conda-env-python-py"
  },
  "language_info": {
   "codemirror_mode": {
    "name": "ipython",
    "version": 3
   },
   "file_extension": ".py",
   "mimetype": "text/x-python",
   "name": "python",
   "nbconvert_exporter": "python",
   "pygments_lexer": "ipython3",
   "version": "3.7.12"
  }
 },
 "nbformat": 4,
 "nbformat_minor": 4
}
